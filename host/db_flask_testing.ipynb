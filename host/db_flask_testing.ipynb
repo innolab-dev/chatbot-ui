{
 "cells": [
  {
   "cell_type": "markdown",
   "metadata": {},
   "source": [
    "### Testing the request to langchain for file_uploader port"
   ]
  },
  {
   "cell_type": "markdown",
   "metadata": {},
   "source": [
    "#### testing the upload part"
   ]
  },
  {
   "cell_type": "code",
   "execution_count": 5,
   "metadata": {},
   "outputs": [
    {
     "name": "stdout",
     "output_type": "stream",
     "text": [
      "{\"files\":\"./example_data/InnoLab_visit_developer_kids.pptx\",\"purpose\":\"upload\"}\n",
      "\n"
     ]
    }
   ],
   "source": [
    "import requests\n",
    "import json\n",
    "\n",
    "url = 'http://219.78.175.160:1111/file_uploader'\n",
    "data = {\n",
    "    \"purpose\": \"upload\",\n",
    "    \"files\": \"./example_data/InnoLab_visit_developer_kids.pptx\"\n",
    "}\n",
    "headers = {'Content-type': 'application/json'}\n",
    "\n",
    "response = requests.post(url, data=json.dumps(data), headers=headers)\n",
    "print(response.text)\n"
   ]
  },
  {
   "cell_type": "code",
   "execution_count": null,
   "metadata": {},
   "outputs": [],
   "source": [
    "print(response.json()[\"text\"])"
   ]
  },
  {
   "cell_type": "markdown",
   "metadata": {},
   "source": [
    "#### List all the uploaded doc"
   ]
  },
  {
   "cell_type": "code",
   "execution_count": null,
   "metadata": {},
   "outputs": [],
   "source": [
    "data = {\n",
    "    \"purpose\":\"list\"\n",
    "}\n",
    "headers = {'Content-type': 'application/json'}\n",
    "\n",
    "response = requests.post(url, data=json.dumps(data), headers=headers)\n",
    "print(response.text)"
   ]
  },
  {
   "cell_type": "code",
   "execution_count": null,
   "metadata": {},
   "outputs": [],
   "source": [
    "print(response.json()[\"text\"])"
   ]
  },
  {
   "cell_type": "markdown",
   "metadata": {},
   "source": [
    "#### Do searching on the doc"
   ]
  },
  {
   "cell_type": "code",
   "execution_count": 3,
   "metadata": {},
   "outputs": [
    {
     "name": "stdout",
     "output_type": "stream",
     "text": [
      "{\"image\":null,\"text\":\"Answer:  I don't know.\\nSources:\\n./example_data/InnoLab_visit_developer_kids.pptx\\n./example_data/InnoLab_visit_developer_kids.pptx\"}\n",
      "\n"
     ]
    }
   ],
   "source": [
    "import requests\n",
    "import json\n",
    "url = 'http://219.78.175.160:1111/file_uploader'\n",
    "data = {\n",
    "    \"purpose\":\"search\",\n",
    "    \"query\":\"what is dynamic 365\"\n",
    "}\n",
    "headers = {'Content-type': 'application/json'}\n",
    "\n",
    "response = requests.post(url, data=json.dumps(data), headers=headers)\n",
    "print(response.text)"
   ]
  },
  {
   "cell_type": "code",
   "execution_count": 4,
   "metadata": {},
   "outputs": [
    {
     "name": "stdout",
     "output_type": "stream",
     "text": [
      "Answer:  I don't know.\n",
      "Sources:\n",
      "./example_data/InnoLab_visit_developer_kids.pptx\n",
      "./example_data/InnoLab_visit_developer_kids.pptx\n"
     ]
    }
   ],
   "source": [
    "print(response.json()[\"text\"])"
   ]
  },
  {
   "cell_type": "markdown",
   "metadata": {},
   "source": [
    "#### Delete the files"
   ]
  },
  {
   "cell_type": "code",
   "execution_count": null,
   "metadata": {},
   "outputs": [],
   "source": [
    "data = {\n",
    "    \"purpose\":\"delete\",\n",
    "    \"id\":\"32c4f56b-4a28-42e7-9e98-c883507ae578\"\n",
    "}\n",
    "headers = {'Content-type': 'application/json'}\n",
    "\n",
    "response = requests.post(url, data=json.dumps(data), headers=headers)\n",
    "print(response.text)"
   ]
  },
  {
   "cell_type": "markdown",
   "metadata": {},
   "source": [
    "#### List it, should be empty"
   ]
  },
  {
   "cell_type": "code",
   "execution_count": null,
   "metadata": {},
   "outputs": [],
   "source": [
    "data = {\n",
    "    \"purpose\":\"list\"\n",
    "}\n",
    "headers = {'Content-type': 'application/json'}\n",
    "\n",
    "response = requests.post(url, data=json.dumps(data), headers=headers)\n",
    "print(response.text)"
   ]
  },
  {
   "cell_type": "markdown",
   "metadata": {},
   "source": [
    "#### Ask question, will just use llm to answer you, with no source reference "
   ]
  },
  {
   "cell_type": "code",
   "execution_count": null,
   "metadata": {},
   "outputs": [],
   "source": [
    "data = {\n",
    "    \"purpose\":\"search\",\n",
    "    \"query\":\"What is the programming language use for building os?\"\n",
    "}\n",
    "headers = {'Content-type': 'application/json'}\n",
    "\n",
    "response = requests.post(url, data=json.dumps(data), headers=headers)\n",
    "print(response.text)"
   ]
  },
  {
   "cell_type": "code",
   "execution_count": null,
   "metadata": {},
   "outputs": [],
   "source": [
    "print(response.json()[\"text\"])"
   ]
  },
  {
   "cell_type": "code",
   "execution_count": null,
   "metadata": {},
   "outputs": [],
   "source": []
  }
 ],
 "metadata": {
  "kernelspec": {
   "display_name": "benv",
   "language": "python",
   "name": "python3"
  },
  "language_info": {
   "codemirror_mode": {
    "name": "ipython",
    "version": 3
   },
   "file_extension": ".py",
   "mimetype": "text/x-python",
   "name": "python",
   "nbconvert_exporter": "python",
   "pygments_lexer": "ipython3",
   "version": "3.10.12"
  },
  "orig_nbformat": 4
 },
 "nbformat": 4,
 "nbformat_minor": 2
}
