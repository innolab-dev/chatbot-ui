{
 "cells": [
  {
   "cell_type": "code",
   "execution_count": 1,
   "metadata": {},
   "outputs": [
    {
     "name": "stderr",
     "output_type": "stream",
     "text": [
      "/home/tsd/mid/benv/lib/python3.10/site-packages/pinecone/index.py:4: TqdmWarning: IProgress not found. Please update jupyter and ipywidgets. See https://ipywidgets.readthedocs.io/en/stable/user_install.html\n",
      "  from tqdm.autonotebook import tqdm\n",
      "/home/tsd/mid/benv/lib/python3.10/site-packages/deeplake/util/check_latest_version.py:32: UserWarning: A newer version of deeplake (3.6.17) is available. It's recommended that you update to the latest version using `pip install -U deeplake`.\n",
      "  warnings.warn(\n"
     ]
    }
   ],
   "source": [
    "from llm import llm_davinci"
   ]
  },
  {
   "cell_type": "code",
   "execution_count": null,
   "metadata": {},
   "outputs": [],
   "source": [
    "prompt_for_classfication = \"\"\"\n",
    "I want you to classify prompts into one of 6 categories:\n",
    "\n",
    "1.  Image-related\n",
    "    Any prompt that involves generating, modifying, or describing an image, pictures, photos\n",
    "    Examples:\n",
    "    Generate an image of a cat\n",
    "    Create a picture of a dog running through a field\n",
    "    Can you make a photo editing to combine these two faces?\n",
    "    \n",
    "2.  Code-related\n",
    "    Any prompt that involves writing code or explaining code\n",
    "    Examples:\n",
    "    Write a function in Python to calculate the factorial of a number\n",
    "    Can you explain what a for loop does in JavaScript?\n",
    "    \n",
    "3.  Email-sender\n",
    "    Any prompt that involves writing an email, or sending an email\n",
    "    Examples:\n",
    "    Please draft an email to john@example.com asking about the status of the project\n",
    "    Can you write an email to sales@company.com inquiring about pricing for a custom order?\n",
    "    \n",
    "4.  Document, database related\n",
    "    Any prompt that involves updating / deleting documents in a database, listing files in a database, searching and answering questions about files in a database\n",
    "    Examples:\n",
    "    What documents in the database relate to Project X?\n",
    "    Please update the status for entry 12345 in the database to Completed\n",
    "    \n",
    "5.  Selling product\n",
    "    Any prompt that involves selling the product, or buying the product, or enquires about our company product\n",
    "    Examples:\n",
    "    I want to buy a blue model of the Acme Widget. Do you have this in stock?\n",
    "    Can you tell me more about the features of the Deluxe Gizmo? I'm interested in purchasing one.\n",
    "    \n",
    "6.  Question-answering\n",
    "    Any prompt that is asking a question that requires a factual answer\n",
    "    Or any casual talk\n",
    "    If you think it is not Image-related or Code-related, classify it as this one\n",
    "    Examples:\n",
    "    What is the capital of France?\n",
    "    How are you doing today?\n",
    "    Can you recommend a good restaurant in town for dinner?\n",
    "    \n",
    "I will provide a prompt. Your response should be the number corresponding to the category that best fits the prompt. Only respond with '1', '2' or '3', etc.\n",
    "\n",
    "Do not provide any additional explanation or text besides the category number.\n",
    "\n",
    "Now classify this prompt: {prompt}\n",
    "\"\"\""
   ]
  },
  {
   "cell_type": "code",
   "execution_count": null,
   "metadata": {},
   "outputs": [],
   "source": [
    "prompt = \"I want to write an email to my boss telling him i am sick today and i can't go to work\""
   ]
  },
  {
   "cell_type": "code",
   "execution_count": null,
   "metadata": {},
   "outputs": [],
   "source": [
    "s = llm_davinci(prompt_for_classfication.format(prompt=prompt))"
   ]
  },
  {
   "cell_type": "code",
   "execution_count": null,
   "metadata": {},
   "outputs": [],
   "source": [
    "import re\n",
    "match = re.search(r'(\\d)', s)\n",
    "if match:\n",
    "    category = match.group(1)\n",
    "print(category)"
   ]
  },
  {
   "cell_type": "code",
   "execution_count": 2,
   "metadata": {},
   "outputs": [],
   "source": [
    "prompt_file_uploader_routing = \"\"\"\n",
    "Please classify this user prompt into one of the following categories, and extract the relevant information from the prompt. Return the extracted information in JSON format:\n",
    "\n",
    "Upload file - Return {\"purpose\": \"upload\", \"file_path\": \"file path\"}\n",
    "\n",
    "Search file and answer question - Return {\"purpose\": \"search\", \"query\": \"search query\"}\n",
    "\n",
    "Delete file - Return {\"purpose\": \"delete\", \"file_id\": \"id\"}\n",
    "\n",
    "List files - Return {\"purpose\": \"list\"}\n",
    "\n",
    "Upload file and search - Return {\"purpose\":\"upload_and_search\",\"file_path\":\"file path\",\"query\":\"search query\"}\n",
    "\n",
    "Examples:\n",
    "\n",
    "Prompt: I want to upload the file located at ./test.txt\n",
    "Ans: {\"purpose\": \"upload\", \"file_path\": \"./test.txt\"}\n",
    "\n",
    "Prompt: What is the best language for AI according to the database?\n",
    "Ans: {\"purpose\": \"search\", \"query\": \"What is the best language for AI?\"}\n",
    "\n",
    "Prompt: Delete file 12345\n",
    "Ans: {\"purpose\": \"delete\", \"file_id\": \"12345\"}\n",
    "\n",
    "Prompt: Show me all files\n",
    "Ans: {\"purpose\": \"list\"}\n",
    "\n",
    "Prompt: Based on the file I uploaded, what is the best language for AI?\n",
    "Ans: {\"purpose\":\"upload_and_search\",\"file_path\":\"./test.txt\",\"query\":\"What is the best language for AI?\"}\n",
    "\n",
    "\n",
    "\"\"\""
   ]
  },
  {
   "cell_type": "code",
   "execution_count": 21,
   "metadata": {},
   "outputs": [],
   "source": [
    "prompt=\"upload this file to the database, file_path = jkdfjd\""
   ]
  },
  {
   "cell_type": "code",
   "execution_count": 4,
   "metadata": {},
   "outputs": [],
   "source": [
    "p=\"\"\"\n",
    "Current Prompt: {prompt}\n",
    "Ans:\n",
    "\"\"\""
   ]
  },
  {
   "cell_type": "code",
   "execution_count": 30,
   "metadata": {},
   "outputs": [],
   "source": [
    "res = llm_davinci(prompt_file_uploader_routing+p.format(prompt=prompt))"
   ]
  },
  {
   "cell_type": "code",
   "execution_count": 31,
   "metadata": {},
   "outputs": [],
   "source": [
    "import json\n",
    "re = json.loads(res)"
   ]
  },
  {
   "cell_type": "code",
   "execution_count": 32,
   "metadata": {},
   "outputs": [
    {
     "name": "stdout",
     "output_type": "stream",
     "text": [
      "{'purpose': 'search', 'query': 'What is inside the database?'}\n"
     ]
    }
   ],
   "source": [
    "print(re)"
   ]
  },
  {
   "cell_type": "code",
   "execution_count": 20,
   "metadata": {},
   "outputs": [
    {
     "name": "stdout",
     "output_type": "stream",
     "text": [
      "search\n"
     ]
    }
   ],
   "source": [
    "print(re[\"purpose\"])"
   ]
  },
  {
   "cell_type": "code",
   "execution_count": null,
   "metadata": {},
   "outputs": [],
   "source": [
    "print(res[\"files\"])"
   ]
  },
  {
   "cell_type": "code",
   "execution_count": 25,
   "metadata": {},
   "outputs": [],
   "source": [
    "prompt=\"remove the file of id 1234\""
   ]
  },
  {
   "cell_type": "code",
   "execution_count": null,
   "metadata": {},
   "outputs": [],
   "source": [
    "llm_davinci(prompt_file_uploader_routing.format(prompt=prompt))"
   ]
  },
  {
   "cell_type": "code",
   "execution_count": 29,
   "metadata": {},
   "outputs": [],
   "source": [
    "prompt=\"what is inside the database\"\n"
   ]
  },
  {
   "cell_type": "code",
   "execution_count": null,
   "metadata": {},
   "outputs": [],
   "source": [
    "llm_davinci(prompt_file_uploader_routing.format(prompt=prompt))"
   ]
  },
  {
   "cell_type": "code",
   "execution_count": null,
   "metadata": {},
   "outputs": [],
   "source": []
  },
  {
   "cell_type": "code",
   "execution_count": null,
   "metadata": {},
   "outputs": [],
   "source": []
  },
  {
   "cell_type": "markdown",
   "metadata": {},
   "source": [
    "purpose -- all\n",
    "files -- upload\n",
    "query -- search\n",
    "delete -- id"
   ]
  }
 ],
 "metadata": {
  "kernelspec": {
   "display_name": "benv",
   "language": "python",
   "name": "python3"
  },
  "language_info": {
   "codemirror_mode": {
    "name": "ipython",
    "version": 3
   },
   "file_extension": ".py",
   "mimetype": "text/x-python",
   "name": "python",
   "nbconvert_exporter": "python",
   "pygments_lexer": "ipython3",
   "version": "3.10.12"
  },
  "orig_nbformat": 4
 },
 "nbformat": 4,
 "nbformat_minor": 2
}
