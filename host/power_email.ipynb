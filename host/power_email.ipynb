{
 "cells": [
  {
   "cell_type": "code",
   "execution_count": 1,
   "metadata": {},
   "outputs": [],
   "source": [
    "import os\n",
    "os.environ[\"OPENAI_API_TYPE\"] = \"azure\"\n",
    "os.environ[\"OPENAI_API_VERSION\"] = \"2023-03-15-preview\"\n",
    "os.environ[\"OPENAI_API_BASE\"] = \"https://pocsc.openai.azure.com/\"\n",
    "os.environ[\"OPENAI_API_KEY\"] = \"f96c629ba6874b2aaa7569acfea2162c\"\n",
    "\n"
   ]
  },
  {
   "cell_type": "code",
   "execution_count": 2,
   "metadata": {},
   "outputs": [],
   "source": [
    "from langchain.llms import AzureOpenAI\n",
    "import requests"
   ]
  },
  {
   "cell_type": "code",
   "execution_count": 3,
   "metadata": {},
   "outputs": [],
   "source": [
    "# llm = OpenAI(temperature=0,deployment_name=\"\")\n",
    "llm = AzureOpenAI(temperature=0,deployment_name=\"text-davinci-003\")\n"
   ]
  },
  {
   "cell_type": "code",
   "execution_count": 4,
   "metadata": {},
   "outputs": [],
   "source": [
    "prompt_for_email_content = \"\"\"\n",
    "Please draft the following email body in HTML format, with appropriate HTML tags for structure and formatting, on behalf of the user.\n",
    "\n",
    "User request:\n",
    "{request}\n",
    "\n",
    "User background:\n",
    "name: {user_name}\n",
    "position: {user_position}   \n",
    "boss_name: {boss_name}\n",
    "\n",
    "\"\"\""
   ]
  },
  {
   "cell_type": "code",
   "execution_count": 5,
   "metadata": {},
   "outputs": [],
   "source": [
    "prompt_for_subject_line = \"\"\"\n",
    "\n",
    "Please review the email content, and give back the suitable subject line, \n",
    "\n",
    "here is the email content:\n",
    "{content}\n",
    "\"\"\""
   ]
  },
  {
   "cell_type": "code",
   "execution_count": 6,
   "metadata": {},
   "outputs": [],
   "source": [
    "def send_email(input):\n",
    "    # Send the first request to trigger the imagine endpoint\n",
    "    request_url = 'https://prod-62.southeastasia.logic.azure.com:443/workflows/e6951c64d93b4b01ad5dae3ce3eb109c/triggers/manual/paths/invoke?api-version=2016-06-01&sp=%2Ftriggers%2Fmanual%2Frun&sv=1.0&sig=qpSus9C5KInLfnfzQ5Vi2JL_ROt3h7eIJxTi3BDfpkA'\n",
    "    user = \"Kenny\"\n",
    "    sender_email = \"02009621@corphq.hk.pccw.com\"\n",
    "    receiver_email = \"02009621@corphq.hk.pccw.com\"\n",
    "    content = llm(prompt_for_email_content.format(\n",
    "        request=input,\n",
    "        user_name=user,\n",
    "        user_position=\"Summer Internship\",\n",
    "        boss_name=\"bob\"\n",
    "    ))\n",
    "\n",
    "    subject_line = llm(prompt_for_subject_line.format(content=content))\n",
    "    action = \"sendemail\"\n",
    "    # To be edited\n",
    "    email_info = {\n",
    "        \"user\": user,\n",
    "        # this one need to match the account set in automate, maybe investigate it later\n",
    "        \"sender_email\": sender_email,\n",
    "        \"receiver_email\": receiver_email,  # need to be HTML format content\n",
    "        \"subject_line\": subject_line,\n",
    "        \"content\": content,\n",
    "        \"action\": action,\n",
    "    }\n",
    "\n",
    "    response = requests.post(request_url, json=email_info)\n",
    "    if response.status_code == 202:\n",
    "        return \"Just return the following string to the user : 'Email sent successfully'\"\n",
    "    else:\n",
    "        return \"Just return the following string to the user : 'Email sent failed'\""
   ]
  },
  {
   "cell_type": "code",
   "execution_count": 7,
   "metadata": {},
   "outputs": [],
   "source": [
    "input = \"\"\"\n",
    "Send an email to my boss that telling him that I want to quit the job after 25th of August, plz make up a reason for me, and express my gratitude to him.\n",
    "\n",
    "\"\"\""
   ]
  },
  {
   "cell_type": "code",
   "execution_count": 8,
   "metadata": {},
   "outputs": [
    {
     "data": {
      "text/plain": [
       "\"Just return the following string to the user : 'Email sent successfully'\""
      ]
     },
     "execution_count": 8,
     "metadata": {},
     "output_type": "execute_result"
    }
   ],
   "source": [
    "send_email(input)"
   ]
  },
  {
   "cell_type": "code",
   "execution_count": null,
   "metadata": {},
   "outputs": [],
   "source": []
  }
 ],
 "metadata": {
  "kernelspec": {
   "display_name": "benv",
   "language": "python",
   "name": "python3"
  },
  "language_info": {
   "codemirror_mode": {
    "name": "ipython",
    "version": 3
   },
   "file_extension": ".py",
   "mimetype": "text/x-python",
   "name": "python",
   "nbconvert_exporter": "python",
   "pygments_lexer": "ipython3",
   "version": "3.9.12"
  },
  "orig_nbformat": 4
 },
 "nbformat": 4,
 "nbformat_minor": 2
}
